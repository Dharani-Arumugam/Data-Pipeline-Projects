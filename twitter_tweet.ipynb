{
 "cells": [
  {
   "cell_type": "code",
   "execution_count": 8,
   "metadata": {},
   "outputs": [],
   "source": [
    "import pandas as pd\n",
    "import tweepy\n",
    "import s3fs"
   ]
  },
  {
   "cell_type": "code",
   "execution_count": 9,
   "metadata": {},
   "outputs": [],
   "source": [
    "consumer_key            = \"7AcJFL7y4p8IF7yCzk0CdYU70\"\n",
    "consumer_secret         = \"cWOdKyi0z4um248xpcEzD0F3BkUeJ9foubjyz585XAqqkpO9X5\"\n",
    "access_token            = \"1381642000001286151-MSQ0eUHtBsfnnNdcXpucpPZiJoi4Hm\"\n",
    "access_token_secret     = \"ZtRpLs1YbIDlVNCjcZFPPQ0XfvjaOMy77UZrkGZrWrtaI\""
   ]
  },
  {
   "cell_type": "code",
   "execution_count": 10,
   "metadata": {},
   "outputs": [],
   "source": [
    "auth = tweepy.OAuth1UserHandler(consumer_key,\n",
    "                                consumer_secret,\n",
    "                                access_token,\n",
    "                                access_token_secret)\n",
    "api  = tweepy.API(auth)"
   ]
  },
  {
   "cell_type": "code",
   "execution_count": 12,
   "metadata": {},
   "outputs": [],
   "source": [
    "tweets = api.user_timeline(screen_name= '@elonmusk',\n",
    "                           count = 2000,\n",
    "                           include_rts = False,\n",
    "                           tweet_mode = 'extended')\n",
    "list = []\n",
    "for tweet in tweets:\n",
    "    text = tweet._json['full_text']\n",
    "    refined_tweet = {\"user\": tweet.user.screen_name,\n",
    "                     'text' : text,\n",
    "                     'favorite_count' : tweet.favorite_count,\n",
    "                     'retweet_count' : tweet.retweet_count,\n",
    "                     'created_at' : tweet.created_at}\n",
    "        \n",
    "    list.append(refined_tweet) \n",
    "    \n",
    "    \n",
    "df = pd.DataFrame(list)\n",
    "df.to_csv('refined_tweets.csv')\n"
   ]
  },
  {
   "cell_type": "code",
   "execution_count": null,
   "metadata": {},
   "outputs": [],
   "source": []
  }
 ],
 "metadata": {
  "kernelspec": {
   "display_name": "Python 3",
   "language": "python",
   "name": "python3"
  },
  "language_info": {
   "codemirror_mode": {
    "name": "ipython",
    "version": 3
   },
   "file_extension": ".py",
   "mimetype": "text/x-python",
   "name": "python",
   "nbconvert_exporter": "python",
   "pygments_lexer": "ipython3",
   "version": "3.8.3"
  }
 },
 "nbformat": 4,
 "nbformat_minor": 4
}
